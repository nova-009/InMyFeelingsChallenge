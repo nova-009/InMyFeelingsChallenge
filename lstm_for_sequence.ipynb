{
 "cells": [
  {
   "cell_type": "code",
   "execution_count": 1,
   "metadata": {},
   "outputs": [
    {
     "name": "stderr",
     "output_type": "stream",
     "text": [
      "Using TensorFlow backend.\n"
     ]
    }
   ],
   "source": [
    "import numpy as np\n",
    "from keras.models import Sequential, Model\n",
    "from keras.layers import Input, Dense, LSTM, TimeDistributed"
   ]
  },
  {
   "cell_type": "code",
   "execution_count": 2,
   "metadata": {},
   "outputs": [],
   "source": [
    "timesteps=30"
   ]
  },
  {
   "cell_type": "code",
   "execution_count": 3,
   "metadata": {},
   "outputs": [],
   "source": [
    "def process_data_seq(n_samples,data,n_frames=5,rows=16,cols=16,channels=1):\n",
    "    x=[]\n",
    "    y=[]\n",
    "    for i in range(n_samples - n_frames):\n",
    "        row_x=[]\n",
    "        row_y=[]\n",
    "        for j in range(n_frames):\n",
    "            row_x.append(list(data[i+j]))\n",
    "            row_y.append(list(data[i+j+1]))\n",
    "        #y.append(data[i+n_frames]) \n",
    "        row_x=np.array(row_x)\n",
    "        row_x=row_x.flatten()\n",
    "        x.append(row_x)\n",
    "        row_y=np.array(row_y)\n",
    "        row_y=row_y.flatten()\n",
    "        y.append(row_y)\n",
    "    x=np.array(x)\n",
    "    y=np.array(y)\n",
    "    \n",
    "    x=np.reshape(x,(n_samples- n_frames,n_frames,rows*cols*channels))\n",
    "    y=np.reshape(y,(n_samples- n_frames,n_frames,rows*cols*channels))\n",
    "    \n",
    "    return x,y\n",
    "    "
   ]
  },
  {
   "cell_type": "code",
   "execution_count": 22,
   "metadata": {},
   "outputs": [],
   "source": [
    "train=np.loadtxt('compressed/x_train.csv',delimiter='\\t',dtype='float32')\n",
    "test=np.loadtxt('compressed/x_test.csv',delimiter='\\t',dtype='float32')"
   ]
  },
  {
   "cell_type": "code",
   "execution_count": null,
   "metadata": {},
   "outputs": [],
   "source": [
    "train.shape"
   ]
  },
  {
   "cell_type": "code",
   "execution_count": 23,
   "metadata": {},
   "outputs": [],
   "source": [
    "from sklearn.preprocessing import MinMaxScaler\n",
    "\n",
    "scaler=MinMaxScaler()\n",
    "scaler.fit(train)\n",
    "train=scaler.transform(train)\n",
    "test=scaler.transform(test)"
   ]
  },
  {
   "cell_type": "code",
   "execution_count": 40,
   "metadata": {},
   "outputs": [
    {
     "data": {
      "text/plain": [
       "numpy.ndarray"
      ]
     },
     "execution_count": 40,
     "metadata": {},
     "output_type": "execute_result"
    }
   ],
   "source": [
    "type(scaler.inverse_transform(train))"
   ]
  },
  {
   "cell_type": "code",
   "execution_count": 24,
   "metadata": {},
   "outputs": [],
   "source": [
    "x_train,y_train=process_data_seq(n_samples=9999,data=train,n_frames=timesteps)\n",
    "x_test,y_test=process_data_seq(n_samples=999,data=train,n_frames=timesteps)"
   ]
  },
  {
   "cell_type": "code",
   "execution_count": 16,
   "metadata": {},
   "outputs": [],
   "source": [
    "del(train)\n",
    "del(test)"
   ]
  },
  {
   "cell_type": "code",
   "execution_count": 25,
   "metadata": {},
   "outputs": [
    {
     "name": "stdout",
     "output_type": "stream",
     "text": [
      "(9969, 30, 16, 16, 1)\n",
      "(9969, 30, 16, 16, 1)\n",
      "(969, 30, 16, 16, 1)\n",
      "(969, 30, 16, 16, 1)\n"
     ]
    }
   ],
   "source": [
    "print(x_train.shape)\n",
    "print(y_train.shape)\n",
    "print(x_test.shape)\n",
    "print(y_test.shape)"
   ]
  },
  {
   "cell_type": "code",
   "execution_count": 26,
   "metadata": {},
   "outputs": [],
   "source": [
    "#x_train=x_train.reshape(x_train.shape[0],timesteps,256)\n",
    "#y_train=y_train.reshape(y_train.shape[0],timesteps,256)\n",
    "#x_test=x_test.reshape(x_test.shape[0],timesteps,256)\n",
    "#y_test=y_test.reshape(y_test.shape[0],timesteps,256)"
   ]
  },
  {
   "cell_type": "code",
   "execution_count": null,
   "metadata": {},
   "outputs": [],
   "source": [
    "\n",
    "\n"
   ]
  },
  {
   "cell_type": "code",
   "execution_count": 27,
   "metadata": {},
   "outputs": [],
   "source": [
    "inputs = Input(name='inputs',shape=(timesteps,256))\n",
    "layer = LSTM(256, return_sequences=True)(inputs)\n",
    "layer = LSTM(256,return_sequences=True)(layer)\n",
    "layer = LSTM(256,return_sequences=True)(layer)\n",
    "layer = TimeDistributed(Dense(256))(layer)\n",
    "model = Model(inputs=inputs,outputs=layer)"
   ]
  },
  {
   "cell_type": "code",
   "execution_count": 28,
   "metadata": {},
   "outputs": [
    {
     "name": "stdout",
     "output_type": "stream",
     "text": [
      "_________________________________________________________________\n",
      "Layer (type)                 Output Shape              Param #   \n",
      "=================================================================\n",
      "inputs (InputLayer)          (None, 30, 256)           0         \n",
      "_________________________________________________________________\n",
      "lstm_4 (LSTM)                (None, 30, 256)           525312    \n",
      "_________________________________________________________________\n",
      "lstm_5 (LSTM)                (None, 30, 256)           525312    \n",
      "_________________________________________________________________\n",
      "lstm_6 (LSTM)                (None, 30, 256)           525312    \n",
      "_________________________________________________________________\n",
      "time_distributed_2 (TimeDist (None, 30, 256)           65792     \n",
      "=================================================================\n",
      "Total params: 1,641,728\n",
      "Trainable params: 1,641,728\n",
      "Non-trainable params: 0\n",
      "_________________________________________________________________\n"
     ]
    }
   ],
   "source": [
    "model.summary()\n",
    "model.compile(loss='mean_squared_error',optimizer='sgd')"
   ]
  },
  {
   "cell_type": "code",
   "execution_count": 30,
   "metadata": {},
   "outputs": [
    {
     "name": "stdout",
     "output_type": "stream",
     "text": [
      "Train on 9969 samples, validate on 969 samples\n",
      "Epoch 1/20\n",
      "9969/9969 [==============================] - 156s 16ms/step - loss: 0.0611 - val_loss: 0.0663\n",
      "Epoch 2/20\n",
      "9969/9969 [==============================] - 152s 15ms/step - loss: 0.0594 - val_loss: 0.0648\n",
      "Epoch 3/20\n",
      "9969/9969 [==============================] - 146s 15ms/step - loss: 0.0580 - val_loss: 0.0635\n",
      "Epoch 4/20\n",
      "9969/9969 [==============================] - 143s 14ms/step - loss: 0.0568 - val_loss: 0.0624\n",
      "Epoch 5/20\n",
      "9969/9969 [==============================] - 144s 14ms/step - loss: 0.0557 - val_loss: 0.0614\n",
      "Epoch 6/20\n",
      "9969/9969 [==============================] - 179s 18ms/step - loss: 0.0548 - val_loss: 0.0606\n",
      "Epoch 7/20\n",
      "9969/9969 [==============================] - 145s 15ms/step - loss: 0.0540 - val_loss: 0.0599\n",
      "Epoch 8/20\n",
      "9969/9969 [==============================] - 145s 15ms/step - loss: 0.0533 - val_loss: 0.0593\n",
      "Epoch 9/20\n",
      "9969/9969 [==============================] - 157s 16ms/step - loss: 0.0528 - val_loss: 0.0588\n",
      "Epoch 10/20\n",
      "9969/9969 [==============================] - 154s 15ms/step - loss: 0.0523 - val_loss: 0.0584\n",
      "Epoch 11/20\n",
      "9969/9969 [==============================] - 146s 15ms/step - loss: 0.0518 - val_loss: 0.0580\n",
      "Epoch 12/20\n",
      "9969/9969 [==============================] - 155s 16ms/step - loss: 0.0514 - val_loss: 0.0576\n",
      "Epoch 13/20\n",
      "9969/9969 [==============================] - 155s 16ms/step - loss: 0.0511 - val_loss: 0.0573\n",
      "Epoch 14/20\n",
      "9969/9969 [==============================] - 152s 15ms/step - loss: 0.0508 - val_loss: 0.0571\n",
      "Epoch 15/20\n",
      "9969/9969 [==============================] - 150s 15ms/step - loss: 0.0506 - val_loss: 0.0568\n",
      "Epoch 16/20\n",
      "9969/9969 [==============================] - 159s 16ms/step - loss: 0.0503 - val_loss: 0.0566\n",
      "Epoch 17/20\n",
      "9969/9969 [==============================] - 147s 15ms/step - loss: 0.0501 - val_loss: 0.0564\n",
      "Epoch 18/20\n",
      "9969/9969 [==============================] - 147s 15ms/step - loss: 0.0500 - val_loss: 0.0563\n",
      "Epoch 19/20\n",
      "9969/9969 [==============================] - 158s 16ms/step - loss: 0.0498 - val_loss: 0.0561\n",
      "Epoch 20/20\n",
      "9969/9969 [==============================] - 149s 15ms/step - loss: 0.0496 - val_loss: 0.0560\n"
     ]
    },
    {
     "data": {
      "text/plain": [
       "<keras.callbacks.History at 0x7f2c5499d518>"
      ]
     },
     "execution_count": 30,
     "metadata": {},
     "output_type": "execute_result"
    }
   ],
   "source": [
    "model.fit(x_train, y_train,\n",
    "          batch_size=128, epochs=20, shuffle=False,\n",
    "          validation_data=(x_test, y_test))"
   ]
  },
  {
   "cell_type": "code",
   "execution_count": 47,
   "metadata": {},
   "outputs": [],
   "source": [
    "model.save('lstm_model_deep_normalised.h5')"
   ]
  },
  {
   "cell_type": "code",
   "execution_count": 9,
   "metadata": {},
   "outputs": [],
   "source": [
    "from keras.models import load_model\n",
    "model = load_model('lstm_model_deep_normalised.h5')"
   ]
  },
  {
   "cell_type": "code",
   "execution_count": 31,
   "metadata": {},
   "outputs": [],
   "source": [
    "import matplotlib.pyplot as plt\n",
    "%matplotlib inline\n",
    "from keras.models import load_model\n",
    "from keras.models import Sequential"
   ]
  },
  {
   "cell_type": "code",
   "execution_count": 32,
   "metadata": {},
   "outputs": [],
   "source": [
    "autoencoder = load_model('autoencoder_model.h5')\n",
    "decoder_model = Sequential()\n",
    "for layer in autoencoder.layers[9:17]:\n",
    "    decoder_model.add(layer)"
   ]
  },
  {
   "cell_type": "code",
   "execution_count": null,
   "metadata": {},
   "outputs": [],
   "source": []
  },
  {
   "cell_type": "code",
   "execution_count": null,
   "metadata": {},
   "outputs": [],
   "source": []
  },
  {
   "cell_type": "code",
   "execution_count": 45,
   "metadata": {},
   "outputs": [
    {
     "data": {
      "text/plain": [
       "<Figure size 432x288 with 0 Axes>"
      ]
     },
     "metadata": {},
     "output_type": "display_data"
    }
   ],
   "source": [
    "x=x_train[50]\n",
    "\n",
    "for i in range(1000):\n",
    "    x=x.reshape(1,timesteps,256)\n",
    "    y=model.predict(x)\n",
    "    y_last=y.reshape(timesteps,256)[-1]\n",
    "    y_last=y_last.reshape(1,256)\n",
    "    y_last=scaler.inverse_transform(y_last)\n",
    "    y_decoded = decoder_model.predict(y_last.reshape(1,4,4,16))\n",
    "    y_decoded = y_decoded.reshape(1,64,64,1)\n",
    "    plt.gray()\n",
    "    plt.imsave('output_frames/frame'+str(i)+'.jpg',y_decoded.reshape(64,64))\n",
    "    x=x.reshape(timesteps,256)\n",
    "    y=y.reshape(timesteps,256)\n",
    "    x=x[1:]\n",
    "    x=np.append(x,y[timesteps-1].reshape(1,256),axis=0)\n",
    "    "
   ]
  },
  {
   "cell_type": "code",
   "execution_count": 46,
   "metadata": {},
   "outputs": [
    {
     "data": {
      "text/plain": [
       "0"
      ]
     },
     "execution_count": 46,
     "metadata": {},
     "output_type": "execute_result"
    }
   ],
   "source": [
    "import os\n",
    "os.system(\"ffmpeg -r 15 -i output_frames/frame%01d.jpg -vcodec mpeg4 -y output_video/dance_video.mp4\")"
   ]
  },
  {
   "cell_type": "code",
   "execution_count": null,
   "metadata": {},
   "outputs": [],
   "source": []
  }
 ],
 "metadata": {
  "kernelspec": {
   "display_name": "Python 3",
   "language": "python",
   "name": "python3"
  },
  "language_info": {
   "codemirror_mode": {
    "name": "ipython",
    "version": 3
   },
   "file_extension": ".py",
   "mimetype": "text/x-python",
   "name": "python",
   "nbconvert_exporter": "python",
   "pygments_lexer": "ipython3",
   "version": "3.6.4"
  }
 },
 "nbformat": 4,
 "nbformat_minor": 2
}
